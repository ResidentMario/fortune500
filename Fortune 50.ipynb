{
 "cells": [
  {
   "cell_type": "markdown",
   "metadata": {},
   "source": [
    "This notebook is a visualization of the collective interconnectedness of the top 50 largest United States companies, using data from the 2015 iteration of Fortune magazine's annual [Fortune 500](http://fortune.com/fortune500/) list and measurements of corporate interdependence as reported by IBM Watson's Concept Insight service. This graph was put together using `watsongraph` for querying, `pandas` for data manipulation, and `d3.js` for visualization.\n",
    "\n",
    "This visualization is a simple proof-of-concept of the use of the IBM Watson Cognitive Insights service via the `watsongraph` library for modeling things. Companies, in this case, or blocks of cheese, or planetary moons: whatever the case may be, with a little bit of work in extracting and cleaning your data you can probably visualize it.\n",
    "\n",
    "**Caveat**: This visualization is limited at the moment to the top 50 companies because of certain [scaling issues](https://github.com/ResidentMario/watsongraph/issues/8#issuecomment-173703228) in the `watsongraph` library. Once those are resolved, the sky---or the ceiling on visual clarity, whichever comes first---is the limit!"
   ]
  },
  {
   "cell_type": "markdown",
   "metadata": {},
   "source": [
    "## Data Munging"
   ]
  },
  {
   "cell_type": "code",
   "execution_count": 85,
   "metadata": {
    "collapsed": false,
    "scrolled": true
   },
   "outputs": [],
   "source": [
    "from pandas import DataFrame\n",
    "import pandas as pd\n",
    "\n",
    "# Use Pandas DataFrame manipulations to import and slice up the data the way we want it.\n",
    "frame = pd.read_csv(\"fortune500.csv\")\n",
    "frame = frame.ix[:, ['company', 'industry']]\n",
    "# industries = list(set(list(frame.ix[:, 'industry'])))\n",
    "companies = list(frame.ix[:, 'company'])"
   ]
  },
  {
   "cell_type": "code",
   "execution_count": 40,
   "metadata": {
    "collapsed": false
   },
   "outputs": [],
   "source": [
    "from watsongraph.node import conceptualize\n",
    "\n",
    "# Map Fortune 500's company names to their Wikipedia article titles using watsongraph.node.conceptualize.\n",
    "nodes = [conceptualize(company) for company in companies]"
   ]
  },
  {
   "cell_type": "code",
   "execution_count": 86,
   "metadata": {
    "collapsed": false,
    "scrolled": true
   },
   "outputs": [],
   "source": [
    "# Attach the nodes to our frame.\n",
    "frame['node'] = nodes\n",
    "frame = frame[['company', 'node', 'industry']]"
   ]
  },
  {
   "cell_type": "code",
   "execution_count": 87,
   "metadata": {
    "collapsed": false
   },
   "outputs": [],
   "source": [
    "# Unfortunately a few of the data points are lost during conceptualization. This is principally the result of the fact\n",
    "# that the underlying Concept Insights graph uses an \"image\" of Wikipedia from 2011, which is missing some data on 2015.\n",
    "# It's easiest to simply filter these out.\n",
    "frame = frame[pd.isnull(frame['node']) == False]"
   ]
  },
  {
   "cell_type": "code",
   "execution_count": 103,
   "metadata": {
    "collapsed": false
   },
   "outputs": [],
   "source": [
    "from watsongraph.conceptmodel import ConceptModel\n",
    "\n",
    "# Import these companies into a ConceptModel object.\n",
    "# For now we will work with the top 50. cf. https://github.com/ResidentMario/watsongraph/issues/8\n",
    "model = ConceptModel(list(frame['node'])[:50])\n",
    "model.explode_edges(prune=True)"
   ]
  },
  {
   "cell_type": "code",
   "execution_count": 109,
   "metadata": {
    "collapsed": false
   },
   "outputs": [],
   "source": [
    "# On manual inspection Watson mistook Anthem the health insurance company for Anthem the band.\n",
    "# Again it's easiest to filter this out. All of the other output looks good.\n",
    "model.remove(\"Anthem (band)\")"
   ]
  },
  {
   "cell_type": "code",
   "execution_count": 198,
   "metadata": {
    "collapsed": false,
    "scrolled": true
   },
   "outputs": [],
   "source": [
    "# Augment the model nodes with industry and rank, using the DataFrame elements.\n",
    "\n",
    "def get_industry(company):\n",
    "    return list(frame.ix[frame['node'] == company, 'industry'])[0]\n",
    "\n",
    "def get_rank(company):\n",
    "    return int(frame.ix[frame['node'] == company, 'industry'].index + 1)\n",
    "\n",
    "model.map_property(\"industry\", lambda company: get_industry(company))\n",
    "model.map_property(\"rank\", lambda company: get_rank(company))"
   ]
  },
  {
   "cell_type": "code",
   "execution_count": 320,
   "metadata": {
    "collapsed": false
   },
   "outputs": [],
   "source": [
    "import json\n",
    "\n",
    "# Save the data to disk, to keep from having to rerun all of the burdensome queries above when reloading the notebook.\n",
    "with open('model.json', 'w') as file:\n",
    "    file.write(json.dumps(model.to_json(), indent=4))"
   ]
  },
  {
   "cell_type": "markdown",
   "metadata": {},
   "source": [
    "## Visualization"
   ]
  },
  {
   "cell_type": "code",
   "execution_count": 318,
   "metadata": {
    "collapsed": false
   },
   "outputs": [
    {
     "data": {
      "application/javascript": [
       "\n",
       "require.config({\n",
       "    paths: {\n",
       "        d3: '//d3js.org/d3.v3.min.js',\n",
       "//         d3tip: '//labratrevenge.com/d3-tip/javascripts/d3.tip.v0.6.3.js'\n",
       "    }\n",
       "});"
      ],
      "text/plain": [
       "<IPython.core.display.Javascript object>"
      ]
     },
     "metadata": {},
     "output_type": "display_data"
    }
   ],
   "source": [
    "%%javascript\n",
    "\n",
    "require.config({\n",
    "    paths: {\n",
    "        d3: '//d3js.org/d3.v3.min.js',\n",
    "//         d3tip: '//labratrevenge.com/d3-tip/javascripts/d3.tip.v0.6.3.js'\n",
    "    }\n",
    "});"
   ]
  },
  {
   "cell_type": "code",
   "execution_count": 285,
   "metadata": {
    "collapsed": false
   },
   "outputs": [
    {
     "data": {
      "text/html": [
       "<style>\n",
       "\n",
       ".node {\n",
       "  stroke: #fff;\n",
       "  stroke-width: 1.5px;\n",
       "}\n",
       "\n",
       ".link {\n",
       "  stroke: #999;\n",
       "  stroke-opacity: 1;\n",
       "}\n",
       "\n",
       "</style>"
      ],
      "text/plain": [
       "<IPython.core.display.HTML object>"
      ]
     },
     "metadata": {},
     "output_type": "display_data"
    }
   ],
   "source": [
    "%%html\n",
    "<style>\n",
    "\n",
    ".node {\n",
    "  stroke: #fff;\n",
    "  stroke-width: 1.5px;\n",
    "}\n",
    "\n",
    ".link {\n",
    "  stroke: #999;\n",
    "  stroke-opacity: 1;\n",
    "}\n",
    "\n",
    "</style>"
   ]
  },
  {
   "cell_type": "code",
   "execution_count": 317,
   "metadata": {
    "collapsed": false,
    "scrolled": false
   },
   "outputs": [
    {
     "data": {
      "application/javascript": [
       "\n",
       "// TODO: d3-tip; cf. http://bl.ocks.org/Caged/6476579\n",
       "require(['d3'], function(d3){\n",
       "    /*\n",
       "        Jupyter notebooks save their state between runtimes\n",
       "        so the chart needs to be explicitly destroyed and\n",
       "        recreated every time the code is run.\n",
       "    */\n",
       "    $(\"#chart\").remove();\n",
       "    element.append(\"<div id='chart' style='text-align:center;'></div>\");\n",
       "\n",
       "\n",
       "    var width = 960,\n",
       "        height = 500;\n",
       "\n",
       "    var color = d3.scale.category20();\n",
       "\n",
       "    var force = d3.layout.force()\n",
       "        .charge(-120)\n",
       "        .linkDistance(30)\n",
       "        .size([width, height]);\n",
       "\n",
       "    var svg = d3.select(\"#chart\").append(\"svg\")\n",
       "        .attr(\"width\", width)\n",
       "        .attr(\"height\", height);\n",
       "\n",
       "    d3.json(\"model.json\", function(error, graph) {\n",
       "        if (error) throw error;\n",
       "\n",
       "        force\n",
       "            .nodes(graph.nodes)\n",
       "            .links(graph.links)\n",
       "            .start();\n",
       "\n",
       "        var scale = d3.scale.linear().domain([.5, 1]).range([1, 3])\n",
       "\n",
       "        var color_ramp = d3.scale.linear().domain([.5,1]).range([\"#ccc\",\"#333\"]);\n",
       "\n",
       "        var link = svg.selectAll(\".link\")\n",
       "            .data(graph.links)\n",
       "            .enter().append(\"line\")\n",
       "            .attr(\"class\", \"link\")\n",
       "            .style(\"stroke-width\", function(d) { return scale(d.weight); })\n",
       "            .style(\"stroke\", function(d) { return color_ramp(d.weight); })\n",
       "\n",
       "        var node = svg.selectAll(\".node\")\n",
       "            .data(graph.nodes)\n",
       "            .enter().append(\"circle\")\n",
       "            .attr(\"class\", \"node\")\n",
       "            .attr(\"r\", 5)\n",
       "            .style(\"fill\", function(d) { return color(d.industry); })\n",
       "            .on(\"mouseover\", function() {\n",
       "                d3.select(this)\n",
       "                .style(\"stroke\", \"#000\")\n",
       "            })\n",
       "            .on(\"mouseout\", function() {\n",
       "                d3.select(this)\n",
       "                .style(\"stroke\", \"#fff\");\n",
       "            })\n",
       "            .call(force.drag);\n",
       "\n",
       "        node.append(\"title\")\n",
       "            .text(function(d) { return d.id; });\n",
       "\n",
       "        force.on(\"tick\", function() {\n",
       "            link.attr(\"x1\", function(d) { return d.source.x; })\n",
       "                .attr(\"y1\", function(d) { return d.source.y; })\n",
       "                .attr(\"x2\", function(d) { return d.target.x; })\n",
       "                .attr(\"y2\", function(d) { return d.target.y; });\n",
       "\n",
       "            node.attr(\"cx\", function(d) { return d.x; })\n",
       "                .attr(\"cy\", function(d) { return d.y; });\n",
       "        });\n",
       "    });\n",
       "});"
      ],
      "text/plain": [
       "<IPython.core.display.Javascript object>"
      ]
     },
     "metadata": {},
     "output_type": "display_data"
    }
   ],
   "source": [
    "%%javascript\n",
    "\n",
    "// TODO: d3-tip; cf. http://bl.ocks.org/Caged/6476579\n",
    "require(['d3'], function(d3){\n",
    "    /*\n",
    "        Jupyter notebooks save their state between runtimes\n",
    "        so the chart needs to be explicitly destroyed and\n",
    "        recreated every time the code is run.\n",
    "    */\n",
    "    $(\"#chart\").remove();\n",
    "    element.append(\"<div id='chart' style='text-align:center;'></div>\");\n",
    "\n",
    "\n",
    "    var width = 960,\n",
    "        height = 500;\n",
    "\n",
    "    var color = d3.scale.category20();\n",
    "\n",
    "    var force = d3.layout.force()\n",
    "        .charge(-120)\n",
    "        .linkDistance(30)\n",
    "        .size([width, height]);\n",
    "\n",
    "    var svg = d3.select(\"#chart\").append(\"svg\")\n",
    "        .attr(\"width\", width)\n",
    "        .attr(\"height\", height);\n",
    "\n",
    "    d3.json(\"model.json\", function(error, graph) {\n",
    "        if (error) throw error;\n",
    "\n",
    "        force\n",
    "            .nodes(graph.nodes)\n",
    "            .links(graph.links)\n",
    "            .start();\n",
    "\n",
    "        var scale = d3.scale.linear().domain([.5, 1]).range([1, 3])\n",
    "\n",
    "        var color_ramp = d3.scale.linear().domain([.5,1]).range([\"#ccc\",\"#333\"]);\n",
    "\n",
    "        var link = svg.selectAll(\".link\")\n",
    "            .data(graph.links)\n",
    "            .enter().append(\"line\")\n",
    "            .attr(\"class\", \"link\")\n",
    "            .style(\"stroke-width\", function(d) { return scale(d.weight); })\n",
    "            .style(\"stroke\", function(d) { return color_ramp(d.weight); })\n",
    "\n",
    "        var node = svg.selectAll(\".node\")\n",
    "            .data(graph.nodes)\n",
    "            .enter().append(\"circle\")\n",
    "            .attr(\"class\", \"node\")\n",
    "            .attr(\"r\", 5)\n",
    "            .style(\"fill\", function(d) { return color(d.industry); })\n",
    "            .on(\"mouseover\", function() {\n",
    "                d3.select(this)\n",
    "                .style(\"stroke\", \"#000\")\n",
    "            })\n",
    "            .on(\"mouseout\", function() {\n",
    "                d3.select(this)\n",
    "                .style(\"stroke\", \"#fff\");\n",
    "            })\n",
    "            .call(force.drag);\n",
    "\n",
    "        node.append(\"title\")\n",
    "            .text(function(d) { return d.id; });\n",
    "\n",
    "        force.on(\"tick\", function() {\n",
    "            link.attr(\"x1\", function(d) { return d.source.x; })\n",
    "                .attr(\"y1\", function(d) { return d.source.y; })\n",
    "                .attr(\"x2\", function(d) { return d.target.x; })\n",
    "                .attr(\"y2\", function(d) { return d.target.y; });\n",
    "\n",
    "            node.attr(\"cx\", function(d) { return d.x; })\n",
    "                .attr(\"cy\", function(d) { return d.y; });\n",
    "        });\n",
    "    });\n",
    "});"
   ]
  }
 ],
 "metadata": {
  "kernelspec": {
   "display_name": "Python 3",
   "language": "python",
   "name": "python3"
  },
  "language_info": {
   "codemirror_mode": {
    "name": "ipython",
    "version": 3
   },
   "file_extension": ".py",
   "mimetype": "text/x-python",
   "name": "python",
   "nbconvert_exporter": "python",
   "pygments_lexer": "ipython3",
   "version": "3.4.3"
  }
 },
 "nbformat": 4,
 "nbformat_minor": 0
}
