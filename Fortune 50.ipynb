{
 "cells": [
  {
   "cell_type": "markdown",
   "metadata": {},
   "source": [
    "This notebook is the data munging part of the visualization on the collective interconnectedness of the top 50 largest United States companies. It uses the `watsongraph` and `pandas` libraries to write the requested data to a `model.json` that is then read by the `d3` visualization.\n",
    "\n",
    "You can see the visualization itself [here](http://bl.ocks.org/ResidentMario/793fe40d743b98d05dea)."
   ]
  },
  {
   "cell_type": "code",
   "execution_count": 85,
   "metadata": {
    "collapsed": false,
    "scrolled": true
   },
   "outputs": [],
   "source": [
    "from pandas import DataFrame\n",
    "import pandas as pd\n",
    "\n",
    "# Use Pandas DataFrame manipulations to import and slice up the data the way we want it.\n",
    "frame = pd.read_csv(\"fortune500.csv\")\n",
    "frame = frame.ix[:, ['company', 'industry']]\n",
    "# industries = list(set(list(frame.ix[:, 'industry'])))\n",
    "companies = list(frame.ix[:, 'company'])"
   ]
  },
  {
   "cell_type": "code",
   "execution_count": 40,
   "metadata": {
    "collapsed": false
   },
   "outputs": [],
   "source": [
    "from watsongraph.node import conceptualize\n",
    "\n",
    "# Map Fortune 500's company names to their Wikipedia article titles using watsongraph.node.conceptualize.\n",
    "nodes = [conceptualize(company) for company in companies]"
   ]
  },
  {
   "cell_type": "code",
   "execution_count": 86,
   "metadata": {
    "collapsed": false,
    "scrolled": true
   },
   "outputs": [],
   "source": [
    "# Attach the nodes to our frame.\n",
    "frame['node'] = nodes\n",
    "frame = frame[['company', 'node', 'industry']]"
   ]
  },
  {
   "cell_type": "code",
   "execution_count": 87,
   "metadata": {
    "collapsed": false
   },
   "outputs": [],
   "source": [
    "# Unfortunately a few of the data points are lost during conceptualization. This is principally the result of the fact\n",
    "# that the underlying Concept Insights graph uses an \"image\" of Wikipedia from 2011, which is missing some data on 2015.\n",
    "# It's easiest to simply filter these out.\n",
    "frame = frame[pd.isnull(frame['node']) == False]"
   ]
  },
  {
   "cell_type": "code",
   "execution_count": 103,
   "metadata": {
    "collapsed": false
   },
   "outputs": [],
   "source": [
    "from watsongraph.conceptmodel import ConceptModel\n",
    "\n",
    "# Import these companies into a ConceptModel object.\n",
    "# For now we will work with the top 50. cf. https://github.com/ResidentMario/watsongraph/issues/8\n",
    "model = ConceptModel(list(frame['node'])[:50])\n",
    "model.explode_edges(prune=True)"
   ]
  },
  {
   "cell_type": "code",
   "execution_count": 109,
   "metadata": {
    "collapsed": false
   },
   "outputs": [],
   "source": [
    "# On manual inspection Watson mistook Anthem the health insurance company for Anthem the band.\n",
    "# Again it's easiest to filter this out. All of the other output looks good.\n",
    "model.remove(\"Anthem (band)\")"
   ]
  },
  {
   "cell_type": "code",
   "execution_count": 198,
   "metadata": {
    "collapsed": false,
    "scrolled": true
   },
   "outputs": [],
   "source": [
    "# Augment the model nodes with industry and rank, using the DataFrame elements.\n",
    "\n",
    "def get_industry(company):\n",
    "    return list(frame.ix[frame['node'] == company, 'industry'])[0]\n",
    "\n",
    "def get_rank(company):\n",
    "    return int(frame.ix[frame['node'] == company, 'industry'].index + 1)\n",
    "\n",
    "model.map_property(\"industry\", lambda company: get_industry(company))\n",
    "model.map_property(\"rank\", lambda company: get_rank(company))"
   ]
  },
  {
   "cell_type": "code",
   "execution_count": 320,
   "metadata": {
    "collapsed": false
   },
   "outputs": [],
   "source": [
    "import json\n",
    "\n",
    "# Save the data to disk, to keep from having to rerun all of the burdensome queries above when reloading the notebook.\n",
    "with open('model.json', 'w') as file:\n",
    "    file.write(json.dumps(model.to_json(), indent=4))"
   ]
  }
 ],
 "metadata": {
  "kernelspec": {
   "display_name": "Python 3",
   "language": "python",
   "name": "python3"
  },
  "language_info": {
   "codemirror_mode": {
    "name": "ipython",
    "version": 3
   },
   "file_extension": ".py",
   "mimetype": "text/x-python",
   "name": "python",
   "nbconvert_exporter": "python",
   "pygments_lexer": "ipython3",
   "version": "3.5.1"
  }
 },
 "nbformat": 4,
 "nbformat_minor": 0
}
