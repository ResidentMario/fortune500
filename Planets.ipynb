{
 "cells": [
  {
   "cell_type": "markdown",
   "metadata": {},
   "source": [
    "This notebook is the data munging part of the visualization on the collective interconnectedness of the planets (we're both on one now...probably). It uses the `watsongraph` and `pandas` libraries to write the requested data to a `planets.json` that is then read by the `d3` visualization.\n",
    "\n",
    "You can see the visualization itself [here](http://bl.ocks.org/ResidentMario/793fe40d743b98d05dea)."
   ]
  },
  {
   "cell_type": "code",
   "execution_count": 2,
   "metadata": {
    "collapsed": true
   },
   "outputs": [],
   "source": [
    "from watsongraph.conceptmodel import ConceptModel\n",
    "import json\n",
    "\n",
    "model = ConceptModel(['Mercury', 'Venus', 'Earth', 'Mars', 'Jupiter', 'Saturn', 'Uranus', 'Neptune', 'Pluto'])\n",
    "model.explode_edges(prune=True)\n",
    "\n",
    "with open('planets.json', 'w') as file:\n",
    "    file.write(json.dumps(model.to_json(), indent=4))"
   ]
  }
 ],
 "metadata": {
  "kernelspec": {
   "display_name": "Python 3",
   "language": "python",
   "name": "python3"
  },
  "language_info": {
   "codemirror_mode": {
    "name": "ipython",
    "version": 3
   },
   "file_extension": ".py",
   "mimetype": "text/x-python",
   "name": "python",
   "nbconvert_exporter": "python",
   "pygments_lexer": "ipython3",
   "version": "3.4.3"
  }
 },
 "nbformat": 4,
 "nbformat_minor": 0
}
